{
 "cells": [
  {
   "cell_type": "code",
   "execution_count": 4,
   "id": "3a363c54-d61c-491c-8bb1-9e81e5db6ddd",
   "metadata": {},
   "outputs": [
    {
     "name": "stdout",
     "output_type": "stream",
     "text": [
      "[{'element': 'h1', 'data': ['Lionel Messi']}, {'element': 'title', 'data': ['Lionel Messi - Wikipedia']}]\n"
     ]
    }
   ],
   "source": [
    "import requests\n",
    "from bs4 import BeautifulSoup\n",
    "\n",
    "target_url = \"https://en.wikipedia.org/wiki/Lionel_Messi\"  \n",
    "\n",
    "data_to_extract = [\"h1\", \"title\"]  \n",
    "\n",
    "def scrape_data(url):\n",
    "    try:\n",
    "        response = requests.get(url)\n",
    "        response.raise_for_status()\n",
    "        soup = BeautifulSoup(response.content, \"html.parser\")\n",
    "\n",
    "        extracted_data = []\n",
    "        for element in data_to_extract:\n",
    "            data_points = []\n",
    "            for item in soup.select(element):\n",
    "                data_points.append(item.text.strip())\n",
    "            extracted_data.append({\"element\": element, \"data\": data_points})  \n",
    "\n",
    "        return extracted_data\n",
    "    except requests.exceptions.RequestException as e:  \n",
    "        print(f\"Error occurred during request: {e}\")\n",
    "        return []\n",
    "\n",
    "# Example usage:\n",
    "scraped_data = scrape_data(target_url)\n",
    "print(scraped_data)\n"
   ]
  },
  {
   "cell_type": "code",
   "execution_count": null,
   "id": "f329164c-7e32-4b72-817d-47ba7f4b852e",
   "metadata": {},
   "outputs": [],
   "source": []
  }
 ],
 "metadata": {
  "kernelspec": {
   "display_name": "Python 3 (ipykernel)",
   "language": "python",
   "name": "python3"
  },
  "language_info": {
   "codemirror_mode": {
    "name": "ipython",
    "version": 3
   },
   "file_extension": ".py",
   "mimetype": "text/x-python",
   "name": "python",
   "nbconvert_exporter": "python",
   "pygments_lexer": "ipython3",
   "version": "3.11.7"
  }
 },
 "nbformat": 4,
 "nbformat_minor": 5
}
