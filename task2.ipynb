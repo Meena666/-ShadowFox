{
 "cells": [
  {
   "cell_type": "code",
   "execution_count": 3,
   "id": "6f0db0b7-9710-4ac9-a273-9cf3f9c393bc",
   "metadata": {},
   "outputs": [
    {
     "name": "stdout",
     "output_type": "stream",
     "text": [
      "Welcome to Hangman!\n",
      "\n",
      "           ------\n",
      "           |    |\n",
      "           |    \n",
      "           |  \n",
      "           |    \n",
      "           |  \n",
      "        --------\n",
      "        \n",
      "Current word: ________\n"
     ]
    },
    {
     "name": "stdin",
     "output_type": "stream",
     "text": [
      "Guess a letter or type 'hint' for a hint:  f\n"
     ]
    },
    {
     "name": "stdout",
     "output_type": "stream",
     "text": [
      "Sorry, 'f' is not in the word.\n",
      "\n",
      "           ------\n",
      "           |    |\n",
      "           |    O\n",
      "           |  \n",
      "           |    \n",
      "           |  \n",
      "        --------\n",
      "        \n",
      "Current word: ________\n"
     ]
    },
    {
     "name": "stdin",
     "output_type": "stream",
     "text": [
      "Guess a letter or type 'hint' for a hint:  o\n"
     ]
    },
    {
     "name": "stdout",
     "output_type": "stream",
     "text": [
      "Sorry, 'o' is not in the word.\n",
      "\n",
      "           ------\n",
      "           |    |\n",
      "           |    O\n",
      "           |    |\n",
      "           |    \n",
      "           |  \n",
      "        --------\n",
      "        \n",
      "Current word: ________\n"
     ]
    },
    {
     "name": "stdin",
     "output_type": "stream",
     "text": [
      "Guess a letter or type 'hint' for a hint:  m\n"
     ]
    },
    {
     "name": "stdout",
     "output_type": "stream",
     "text": [
      "Sorry, 'm' is not in the word.\n",
      "\n",
      "           ------\n",
      "           |    |\n",
      "           |    O\n",
      "           |   /|\n",
      "           |    \n",
      "           |  \n",
      "        --------\n",
      "        \n",
      "Current word: ________\n"
     ]
    },
    {
     "name": "stdin",
     "output_type": "stream",
     "text": [
      "Guess a letter or type 'hint' for a hint:  f\n"
     ]
    },
    {
     "name": "stdout",
     "output_type": "stream",
     "text": [
      "You've already guessed that letter.\n",
      "Current word: ________\n"
     ]
    },
    {
     "name": "stdin",
     "output_type": "stream",
     "text": [
      "Guess a letter or type 'hint' for a hint:  e\n"
     ]
    },
    {
     "name": "stdout",
     "output_type": "stream",
     "text": [
      "Good guess! 'e' is in the word.\n",
      "\n",
      "           ------\n",
      "           |    |\n",
      "           |    O\n",
      "           |   /|\n",
      "           |    \n",
      "           |  \n",
      "        --------\n",
      "        \n",
      "Current word: _______e\n"
     ]
    },
    {
     "name": "stdin",
     "output_type": "stream",
     "text": [
      "Guess a letter or type 'hint' for a hint:  s\n"
     ]
    },
    {
     "name": "stdout",
     "output_type": "stream",
     "text": [
      "Sorry, 's' is not in the word.\n",
      "\n",
      "           ------\n",
      "           |    |\n",
      "           |    O\n",
      "           |   /|\\\n",
      "           |    \n",
      "           |  \n",
      "        --------\n",
      "        \n",
      "Current word: _______e\n"
     ]
    },
    {
     "name": "stdin",
     "output_type": "stream",
     "text": [
      "Guess a letter or type 'hint' for a hint:  d\n"
     ]
    },
    {
     "name": "stdout",
     "output_type": "stream",
     "text": [
      "Sorry, 'd' is not in the word.\n",
      "\n",
      "           ------\n",
      "           |    |\n",
      "           |    O\n",
      "           |   /|\\\n",
      "           |   /\n",
      "           |  \n",
      "        --------\n",
      "        \n",
      "Current word: _______e\n"
     ]
    },
    {
     "name": "stdin",
     "output_type": "stream",
     "text": [
      "Guess a letter or type 'hint' for a hint:  w\n"
     ]
    },
    {
     "name": "stdout",
     "output_type": "stream",
     "text": [
      "Sorry, 'w' is not in the word.\n",
      "\n",
      "           ------\n",
      "           |    |\n",
      "           |    O\n",
      "           |   /|\\\n",
      "           |   / \\\n",
      "           |  \n",
      "        --------\n",
      "        \n",
      "Game over! The word was 'variable'.\n"
     ]
    }
   ],
   "source": [
    "import random\n",
    "\n",
    "# List of words to choose from\n",
    "words = [\n",
    "    'python', 'javascript', 'hangman', 'challenge', 'programming',\n",
    "    'developer', 'function', 'variable', 'algorithm', 'condition'\n",
    "]\n",
    "\n",
    "# Function to display the current state of the word\n",
    "def display_word(word, guessed_letters):\n",
    "    display = ''.join([letter if letter in guessed_letters else '_' for letter in word])\n",
    "    return display\n",
    "\n",
    "# Function to get a random word from the list\n",
    "def get_random_word(word_list):\n",
    "    return random.choice(word_list)\n",
    "\n",
    "# Function to display the hangman visual based on the number of incorrect guesses\n",
    "def display_hangman(incorrect_guesses):\n",
    "    stages = [\n",
    "        \"\"\"\n",
    "           ------\n",
    "           |    |\n",
    "           |    \n",
    "           |  \n",
    "           |    \n",
    "           |  \n",
    "        --------\n",
    "        \"\"\",\n",
    "        \"\"\"\n",
    "           ------\n",
    "           |    |\n",
    "           |    O\n",
    "           |  \n",
    "           |    \n",
    "           |  \n",
    "        --------\n",
    "        \"\"\",\n",
    "        \"\"\"\n",
    "           ------\n",
    "           |    |\n",
    "           |    O\n",
    "           |    |\n",
    "           |    \n",
    "           |  \n",
    "        --------\n",
    "        \"\"\",\n",
    "        \"\"\"\n",
    "           ------\n",
    "           |    |\n",
    "           |    O\n",
    "           |   /|\n",
    "           |    \n",
    "           |  \n",
    "        --------\n",
    "        \"\"\",\n",
    "        \"\"\"\n",
    "           ------\n",
    "           |    |\n",
    "           |    O\n",
    "           |   /|\\\\\n",
    "           |    \n",
    "           |  \n",
    "        --------\n",
    "        \"\"\",\n",
    "        \"\"\"\n",
    "           ------\n",
    "           |    |\n",
    "           |    O\n",
    "           |   /|\\\\\n",
    "           |   /\n",
    "           |  \n",
    "        --------\n",
    "        \"\"\",\n",
    "        \"\"\"\n",
    "           ------\n",
    "           |    |\n",
    "           |    O\n",
    "           |   /|\\\\\n",
    "           |   / \\\\\n",
    "           |  \n",
    "        --------\n",
    "        \"\"\"\n",
    "    ]\n",
    "    return stages[incorrect_guesses]\n",
    "\n",
    "# Function to provide a hint\n",
    "def provide_hint(word, guessed_letters):\n",
    "    hint_letters = [letter for letter in word if letter not in guessed_letters]\n",
    "    if hint_letters:\n",
    "        return random.choice(hint_letters)\n",
    "    return ''\n",
    "\n",
    "# Function to run the hangman game\n",
    "def play_hangman():\n",
    "    word = get_random_word(words)\n",
    "    guessed_letters = set()\n",
    "    incorrect_guesses = 0\n",
    "    max_incorrect_guesses = 6\n",
    "    print(\"Welcome to Hangman!\")\n",
    "    print(display_hangman(incorrect_guesses))\n",
    "\n",
    "    while incorrect_guesses < max_incorrect_guesses:\n",
    "        print(f\"Current word: {display_word(word, guessed_letters)}\")\n",
    "        guess = input(\"Guess a letter or type 'hint' for a hint: \").lower()\n",
    "\n",
    "        if guess == 'hint':\n",
    "            hint = provide_hint(word, guessed_letters)\n",
    "            if hint:\n",
    "                print(f\"Hint: Try guessing the letter '{hint}'\")\n",
    "            else:\n",
    "                print(\"No hints available.\")\n",
    "            continue\n",
    "\n",
    "        if len(guess) != 1 or not guess.isalpha():\n",
    "            print(\"Please enter a single valid letter.\")\n",
    "            continue\n",
    "\n",
    "        if guess in guessed_letters:\n",
    "            print(\"You've already guessed that letter.\")\n",
    "            continue\n",
    "\n",
    "        guessed_letters.add(guess)\n",
    "\n",
    "        if guess in word:\n",
    "            print(f\"Good guess! '{guess}' is in the word.\")\n",
    "        else:\n",
    "            incorrect_guesses += 1\n",
    "            print(f\"Sorry, '{guess}' is not in the word.\")\n",
    "       \n",
    "        print(display_hangman(incorrect_guesses))\n",
    "\n",
    "        if all(letter in guessed_letters for letter in word):\n",
    "            print(f\"Congratulations! You've guessed the word '{word}'!\")\n",
    "            break\n",
    "    else:\n",
    "        print(f\"Game over! The word was '{word}'.\")\n",
    "\n",
    "if __name__ == \"__main__\":\n",
    "    play_hangman()"
   ]
  },
  {
   "cell_type": "code",
   "execution_count": null,
   "id": "cc7430fd-bc92-48e5-852e-353fc8af0fd4",
   "metadata": {},
   "outputs": [],
   "source": []
  }
 ],
 "metadata": {
  "kernelspec": {
   "display_name": "Python 3 (ipykernel)",
   "language": "python",
   "name": "python3"
  },
  "language_info": {
   "codemirror_mode": {
    "name": "ipython",
    "version": 3
   },
   "file_extension": ".py",
   "mimetype": "text/x-python",
   "name": "python",
   "nbconvert_exporter": "python",
   "pygments_lexer": "ipython3",
   "version": "3.11.7"
  }
 },
 "nbformat": 4,
 "nbformat_minor": 5
}
